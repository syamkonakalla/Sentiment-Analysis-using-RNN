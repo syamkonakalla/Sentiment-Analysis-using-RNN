{
 "cells": [
  {
   "cell_type": "code",
   "execution_count": 24,
   "metadata": {},
   "outputs": [],
   "source": [
    "# Step 1: Import Libraries and Load the Model\n",
    "import numpy as np\n",
    "import tensorflow as tf\n",
    "from tensorflow.keras.datasets import imdb\n",
    "from tensorflow.keras.preprocessing import sequence\n",
    "from tensorflow.keras.models import load_model"
   ]
  },
  {
   "cell_type": "code",
   "execution_count": 25,
   "metadata": {},
   "outputs": [],
   "source": [
    "\n",
    "# Load the IMDB dataset word index\n",
    "word_index = imdb.get_word_index()\n",
    "reverse_word_index = {value: key for key, value in word_index.items()}"
   ]
  },
  {
   "cell_type": "code",
   "execution_count": 28,
   "metadata": {},
   "outputs": [
    {
     "name": "stdout",
     "output_type": "stream",
     "text": [
      "Model: \"sequential_1\"\n",
      "_________________________________________________________________\n",
      " Layer (type)                Output Shape              Param #   \n",
      "=================================================================\n",
      " embedding_1 (Embedding)     (None, 500, 128)          12800000  \n",
      "                                                                 \n",
      " simple_rnn_1 (SimpleRNN)    (None, 128)               32896     \n",
      "                                                                 \n",
      " dense_1 (Dense)             (None, 1)                 129       \n",
      "                                                                 \n",
      "=================================================================\n",
      "Total params: 12833025 (48.95 MB)\n",
      "Trainable params: 12833025 (48.95 MB)\n",
      "Non-trainable params: 0 (0.00 Byte)\n",
      "_________________________________________________________________\n"
     ]
    }
   ],
   "source": [
    "# Load the pre-trained model with ReLU activation\n",
    "model = load_model('simple_rnn.h5')\n",
    "model.summary()"
   ]
  },
  {
   "cell_type": "code",
   "execution_count": 29,
   "metadata": {},
   "outputs": [
    {
     "data": {
      "text/plain": [
       "[array([[ 0.00783653, -0.05033718, -0.03130857, ..., -0.04398628,\n",
       "          0.03902378, -0.02425576],\n",
       "        [ 0.00331598, -0.05578661,  0.02056151, ..., -0.06014775,\n",
       "          0.03368134, -0.01814372],\n",
       "        [ 0.04370845,  0.01076959,  0.02732233, ..., -0.03635756,\n",
       "         -0.00748588,  0.01732304],\n",
       "        ...,\n",
       "        [ 0.03718797,  0.0382573 , -0.03929257, ...,  0.00785891,\n",
       "         -0.04699047,  0.04897461],\n",
       "        [ 0.02137962,  0.01424946, -0.01384259, ..., -0.01062506,\n",
       "          0.01998285,  0.00948947],\n",
       "        [-0.00661095, -0.02968006, -0.03563382, ...,  0.03462604,\n",
       "         -0.03636491, -0.04691534]], dtype=float32),\n",
       " array([[ 0.0636837 ,  0.17981766, -0.07182185, ...,  0.02196083,\n",
       "          0.17265573,  0.02027302],\n",
       "        [ 0.14753734, -0.14588472, -0.10370804, ..., -0.1031021 ,\n",
       "          0.0922388 , -0.05981401],\n",
       "        [-0.08880153,  0.03581447,  0.05461792, ...,  0.19237983,\n",
       "         -0.15285233, -0.02717463],\n",
       "        ...,\n",
       "        [ 0.01069888,  0.12571445, -0.10948519, ..., -0.02708835,\n",
       "          0.07868395, -0.21096054],\n",
       "        [ 0.01706869, -0.00155618, -0.16219668, ..., -0.161048  ,\n",
       "         -0.12131904, -0.12498593],\n",
       "        [-0.02233431, -0.01056099, -0.05825567, ...,  0.02545834,\n",
       "         -0.06093962,  0.01465194]], dtype=float32),\n",
       " array([[-0.06755622, -0.03953237, -0.13968329, ..., -0.16327013,\n",
       "         -0.24093328,  0.09982256],\n",
       "        [-0.06287565, -0.01955739,  0.12282673, ..., -0.15655   ,\n",
       "          0.01535876,  0.03047272],\n",
       "        [ 0.09759023, -0.1564842 , -0.20941992, ...,  0.08914253,\n",
       "          0.0207168 ,  0.0157335 ],\n",
       "        ...,\n",
       "        [ 0.02319318, -0.01766747,  0.02214911, ..., -0.11434697,\n",
       "          0.13291058, -0.02485551],\n",
       "        [-0.11686727, -0.03717487,  0.031779  , ..., -0.05026864,\n",
       "          0.01859098,  0.11699696],\n",
       "        [ 0.0297897 ,  0.16713096, -0.04603397, ..., -0.07830346,\n",
       "         -0.02759372, -0.00632313]], dtype=float32),\n",
       " array([-0.02471375, -0.01650253, -0.01674425, -0.01998563, -0.02699301,\n",
       "        -0.03116001, -0.03953613,  0.00021656, -0.02866703,  0.04094211,\n",
       "        -0.02966921,  0.02237402, -0.04043933, -0.04480829,  0.04517002,\n",
       "        -0.02411658,  0.03339364, -0.02047388, -0.0202619 , -0.02055744,\n",
       "         0.03228517,  0.00939522, -0.0311096 , -0.0308153 , -0.01842521,\n",
       "         0.03569226, -0.02172535, -0.00215208,  0.01535254, -0.01874694,\n",
       "        -0.03344679,  0.0256484 ,  0.03778175,  0.025249  , -0.02805263,\n",
       "         0.02475114, -0.02281041, -0.03125436, -0.03628296, -0.02431069,\n",
       "        -0.03200747, -0.0216092 , -0.0153666 , -0.00911302, -0.03207072,\n",
       "        -0.01817189,  0.01347013,  0.02711019, -0.03092142,  0.02344222,\n",
       "         0.02216134, -0.0134937 , -0.00709385, -0.03212275, -0.01727286,\n",
       "        -0.00992769, -0.03123328,  0.02867789,  0.00093349,  0.00343771,\n",
       "        -0.02224853, -0.01927931, -0.00232425, -0.03597825,  0.03399458,\n",
       "        -0.02315265,  0.01046485, -0.02340635,  0.02341766,  0.03792747,\n",
       "         0.0386093 ,  0.0269613 , -0.00043208, -0.016929  ,  0.01471397,\n",
       "        -0.00906075, -0.00676723,  0.0161948 ,  0.05642488, -0.0133338 ,\n",
       "         0.01752228, -0.00974169, -0.03006644, -0.00099841,  0.01721705,\n",
       "        -0.02708559,  0.00370105,  0.01501244, -0.02503405, -0.00820538,\n",
       "         0.03174834, -0.02277276, -0.0253835 , -0.01408444, -0.00691456,\n",
       "        -0.04226667, -0.0333193 , -0.01109809, -0.02132314, -0.01577157,\n",
       "         0.01791469, -0.02145493, -0.01457946, -0.00859119, -0.02529805,\n",
       "         0.08718026, -0.01906843, -0.0100728 ,  0.03964163, -0.03066654,\n",
       "        -0.04405044,  0.02730882,  0.02694997, -0.00492646,  0.0191961 ,\n",
       "        -0.01948596, -0.03291363, -0.02609828, -0.00325351, -0.01812365,\n",
       "        -0.03809372, -0.02591636, -0.03766708, -0.05097751,  0.02990974,\n",
       "        -0.02128364, -0.03529497,  0.02137865], dtype=float32),\n",
       " array([[-0.01282509],\n",
       "        [-0.16501348],\n",
       "        [ 0.25937   ],\n",
       "        [ 0.00510944],\n",
       "        [ 0.17715958],\n",
       "        [ 0.00320645],\n",
       "        [-0.01700167],\n",
       "        [-0.03939968],\n",
       "        [-0.1231847 ],\n",
       "        [ 0.23871723],\n",
       "        [-0.00455154],\n",
       "        [-0.03758561],\n",
       "        [ 0.26297197],\n",
       "        [ 0.13178606],\n",
       "        [ 0.10933571],\n",
       "        [-0.24489097],\n",
       "        [-0.07281021],\n",
       "        [ 0.09575364],\n",
       "        [ 0.21838108],\n",
       "        [ 0.03091422],\n",
       "        [ 0.19501977],\n",
       "        [-0.09531618],\n",
       "        [-0.18751982],\n",
       "        [-0.11807548],\n",
       "        [-0.08690261],\n",
       "        [ 0.18205607],\n",
       "        [-0.08177149],\n",
       "        [ 0.00938485],\n",
       "        [-0.8404884 ],\n",
       "        [-0.13609749],\n",
       "        [ 0.02413266],\n",
       "        [ 0.05532423],\n",
       "        [ 0.19085322],\n",
       "        [ 0.03806669],\n",
       "        [ 0.03733749],\n",
       "        [-1.0045589 ],\n",
       "        [-2.6917217 ],\n",
       "        [-0.07855777],\n",
       "        [-0.25726762],\n",
       "        [-0.2051848 ],\n",
       "        [ 0.11623659],\n",
       "        [-0.22736761],\n",
       "        [ 0.22453257],\n",
       "        [ 0.24984455],\n",
       "        [ 0.01035096],\n",
       "        [ 0.11993229],\n",
       "        [ 0.2326699 ],\n",
       "        [ 0.16132317],\n",
       "        [ 0.01983936],\n",
       "        [-0.2915943 ],\n",
       "        [-0.4488572 ],\n",
       "        [-0.24110794],\n",
       "        [-0.20714869],\n",
       "        [ 0.07843709],\n",
       "        [-0.0896215 ],\n",
       "        [-0.5582608 ],\n",
       "        [-0.08363139],\n",
       "        [ 0.06046205],\n",
       "        [-0.18144277],\n",
       "        [-0.1033425 ],\n",
       "        [-0.8183342 ],\n",
       "        [-0.05569362],\n",
       "        [-0.40393874],\n",
       "        [-0.07791299],\n",
       "        [ 0.09442431],\n",
       "        [-0.10844655],\n",
       "        [-0.19506308],\n",
       "        [-0.22759572],\n",
       "        [-0.01809126],\n",
       "        [ 0.12761876],\n",
       "        [ 0.18398406],\n",
       "        [ 0.2501629 ],\n",
       "        [ 0.07645807],\n",
       "        [ 0.17135066],\n",
       "        [-0.27201137],\n",
       "        [ 0.01574568],\n",
       "        [ 0.25322753],\n",
       "        [ 0.15183955],\n",
       "        [-0.4315179 ],\n",
       "        [-0.07725717],\n",
       "        [-0.12669381],\n",
       "        [-0.26273665],\n",
       "        [-0.5166373 ],\n",
       "        [-0.2186271 ],\n",
       "        [-0.27936026],\n",
       "        [-0.09706859],\n",
       "        [ 0.07231701],\n",
       "        [ 0.24379699],\n",
       "        [-0.20821643],\n",
       "        [ 0.21030481],\n",
       "        [-0.07895896],\n",
       "        [-0.25465688],\n",
       "        [-0.21317515],\n",
       "        [-0.10982793],\n",
       "        [ 0.13557641],\n",
       "        [-0.08890576],\n",
       "        [-0.3144771 ],\n",
       "        [ 0.21060432],\n",
       "        [-0.21597557],\n",
       "        [-0.08512859],\n",
       "        [ 0.15656938],\n",
       "        [-0.10037584],\n",
       "        [ 0.24256302],\n",
       "        [ 0.10742988],\n",
       "        [-0.07518566],\n",
       "        [ 0.12409357],\n",
       "        [-0.23543587],\n",
       "        [ 0.17906262],\n",
       "        [ 0.25958383],\n",
       "        [ 0.03188902],\n",
       "        [-0.13558744],\n",
       "        [ 0.08192953],\n",
       "        [-1.4938548 ],\n",
       "        [-0.00455461],\n",
       "        [-0.53660387],\n",
       "        [-0.23238516],\n",
       "        [-0.23691079],\n",
       "        [ 0.22919291],\n",
       "        [-0.14925162],\n",
       "        [-0.265141  ],\n",
       "        [-0.13817778],\n",
       "        [-0.02438255],\n",
       "        [-0.13762519],\n",
       "        [ 0.19814467],\n",
       "        [ 0.22204061],\n",
       "        [-2.972837  ],\n",
       "        [-0.24180812],\n",
       "        [ 0.08938398]], dtype=float32),\n",
       " array([-2.4496653], dtype=float32)]"
      ]
     },
     "execution_count": 29,
     "metadata": {},
     "output_type": "execute_result"
    }
   ],
   "source": [
    "model.get_weights()"
   ]
  },
  {
   "cell_type": "code",
   "execution_count": 30,
   "metadata": {},
   "outputs": [],
   "source": [
    "# Step 2: Helper Functions\n",
    "# Function to decode reviews\n",
    "def decode_review(encoded_review):\n",
    "    return ' '.join([reverse_word_index.get(i - 3, '?') for i in encoded_review])\n",
    "\n",
    "# Function to preprocess user input\n",
    "def preprocess_text(text):\n",
    "    words = text.lower().split()\n",
    "    encoded_review = [word_index.get(word, 2) + 3 for word in words]\n",
    "    padded_review = sequence.pad_sequences([encoded_review], maxlen=500)\n",
    "    return padded_review"
   ]
  },
  {
   "cell_type": "code",
   "execution_count": 31,
   "metadata": {},
   "outputs": [],
   "source": [
    "### Prediction  function\n",
    "\n",
    "def predict_sentiment(review):\n",
    "    preprocessed_input=preprocess_text(review)\n",
    "\n",
    "    prediction=model.predict(preprocessed_input)\n",
    "\n",
    "    sentiment = 'Positive' if prediction[0][0] > 0.5 else 'Negative'\n",
    "    \n",
    "    return sentiment, prediction[0][0]\n",
    "\n"
   ]
  },
  {
   "cell_type": "code",
   "execution_count": 32,
   "metadata": {},
   "outputs": [
    {
     "name": "stdout",
     "output_type": "stream",
     "text": [
      "1/1 [==============================] - 0s 166ms/step\n",
      "Review: This movie was bad! The acting was great and the plot was thrilling.\n",
      "Sentiment: Positive\n",
      "Prediction Score: 0.9227293133735657\n"
     ]
    }
   ],
   "source": [
    "# Step 4: User Input and Prediction\n",
    "# Example review for prediction\n",
    "example_review = \"This movie was bad! The acting was great and the plot was thrilling.\"\n",
    "\n",
    "sentiment,score=predict_sentiment(example_review)\n",
    "\n",
    "print(f'Review: {example_review}')\n",
    "print(f'Sentiment: {sentiment}')\n",
    "print(f'Prediction Score: {score}')"
   ]
  },
  {
   "cell_type": "code",
   "execution_count": 33,
   "metadata": {},
   "outputs": [
    {
     "name": "stdout",
     "output_type": "stream",
     "text": [
      "1/1 [==============================] - 0s 26ms/step\n",
      "Review: This movie was good!.\n",
      "Sentiment: Positive\n",
      "Prediction Score: 0.9625078439712524\n"
     ]
    }
   ],
   "source": [
    "# Step 4: User Input and Prediction\n",
    "# Example review for prediction\n",
    "example_review = \"This movie was good!.\"\n",
    "\n",
    "sentiment,score=predict_sentiment(example_review)\n",
    "\n",
    "print(f'Review: {example_review}')\n",
    "print(f'Sentiment: {sentiment}')\n",
    "print(f'Prediction Score: {score}')"
   ]
  },
  {
   "cell_type": "code",
   "execution_count": 34,
   "metadata": {},
   "outputs": [
    {
     "name": "stdout",
     "output_type": "stream",
     "text": [
      "1/1 [==============================] - 0s 28ms/step\n",
      "Review: This movie was super.\n",
      "Sentiment: Positive\n",
      "Prediction Score: 0.9625078439712524\n"
     ]
    }
   ],
   "source": [
    "\n",
    "example_review = \"This movie was super.\"\n",
    "\n",
    "sentiment,score=predict_sentiment(example_review)\n",
    "\n",
    "print(f'Review: {example_review}')\n",
    "print(f'Sentiment: {sentiment}')\n",
    "print(f'Prediction Score: {score}')"
   ]
  },
  {
   "cell_type": "code",
   "execution_count": 35,
   "metadata": {},
   "outputs": [
    {
     "name": "stdout",
     "output_type": "stream",
     "text": [
      "1/1 [==============================] - 0s 41ms/step\n",
      "Review: This movie was good! The acting was great and the plot was thrilling.\n",
      "Sentiment: Positive\n",
      "Prediction Score: 0.9227293133735657\n"
     ]
    }
   ],
   "source": [
    "# Step 4: User Input and Prediction\n",
    "# Example review for prediction\n",
    "example_review = \"This movie was good! The acting was great and the plot was thrilling.\"\n",
    "\n",
    "sentiment,score=predict_sentiment(example_review)\n",
    "\n",
    "print(f'Review: {example_review}')\n",
    "print(f'Sentiment: {sentiment}')\n",
    "print(f'Prediction Score: {score}')"
   ]
  },
  {
   "cell_type": "code",
   "execution_count": 41,
   "metadata": {},
   "outputs": [
    {
     "name": "stdout",
     "output_type": "stream",
     "text": [
      "1/1 [==============================] - 0s 90ms/step\n",
      "Positive 0.9720386\n"
     ]
    }
   ],
   "source": [
    "sentiment,score=predict_sentiment(\"Nice movie\")\n",
    "print(sentiment,score)"
   ]
  },
  {
   "cell_type": "code",
   "execution_count": 40,
   "metadata": {},
   "outputs": [
    {
     "name": "stdout",
     "output_type": "stream",
     "text": [
      "1/1 [==============================] - 0s 59ms/step\n",
      "Negative 0.4634481\n"
     ]
    }
   ],
   "source": [
    "sentiment,score=predict_sentiment(\"worst movie\")\n",
    "print(sentiment,score)"
   ]
  },
  {
   "cell_type": "code",
   "execution_count": 39,
   "metadata": {},
   "outputs": [
    {
     "name": "stdout",
     "output_type": "stream",
     "text": [
      "1/1 [==============================] - 0s 46ms/step\n",
      "Positive 0.9247835\n"
     ]
    }
   ],
   "source": [
    "sentiment,score=predict_sentiment(\"bad movie\")\n",
    "print(sentiment,score)"
   ]
  },
  {
   "cell_type": "code",
   "execution_count": null,
   "metadata": {},
   "outputs": [],
   "source": []
  }
 ],
 "metadata": {
  "kernelspec": {
   "display_name": "Python 3",
   "language": "python",
   "name": "python3"
  },
  "language_info": {
   "codemirror_mode": {
    "name": "ipython",
    "version": 3
   },
   "file_extension": ".py",
   "mimetype": "text/x-python",
   "name": "python",
   "nbconvert_exporter": "python",
   "pygments_lexer": "ipython3",
   "version": "3.11.0"
  }
 },
 "nbformat": 4,
 "nbformat_minor": 2
}
